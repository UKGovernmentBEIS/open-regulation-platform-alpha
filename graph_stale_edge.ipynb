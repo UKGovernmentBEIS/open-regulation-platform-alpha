{
 "cells": [
  {
   "cell_type": "markdown",
   "metadata": {
    "jp-MarkdownHeadingCollapsed": true,
    "tags": []
   },
   "source": [
    "# Demo Setup "
   ]
  },
  {
   "cell_type": "code",
   "execution_count": null,
   "metadata": {
    "tags": []
   },
   "outputs": [],
   "source": [
    "#\n",
    "# Copyright (C) Analytics Engines 2021\n",
    "# Alastair McKinley (a.mckinley@analyticsengines.com)\n",
    "#\n",
    "\n",
    "import requests\n",
    "from rich import print\n",
    "import arrow\n",
    "import json\n",
    "\n",
    "base_url = \"http://127.0.0.1:3001/\"\n",
    "\n",
    "def login():\n",
    "    r = requests.post(\"http://127.0.0.1:3001/rpc/login\",json={\"email\" : \"admin@beis.gov.uk\", \"password\" : \"Password1!\"})\n",
    "    jwt = r.json()[\"signed_jwt\"]\n",
    "    return jwt\n",
    "\n",
    "def subscribe_to_events():\n",
    "    jwt = login()\n",
    "    headers = {\n",
    "        'Authorization' : f'Bearer {jwt}',\n",
    "        'Content-Type' : 'application/json',\n",
    "        'Accept' : 'application/vnd.pgrst.object+json'\n",
    "    }\n",
    "\n",
    "    resp = requests.get(\n",
    "        base_url + 'event_type',\n",
    "        headers=headers,\n",
    "        params={\n",
    "            \"event_name\" : \"eq.new_document_revision\"\n",
    "        }\n",
    "    )\n",
    "\n",
    "    resp.raise_for_status()\n",
    "\n",
    "    event_type_id = resp.json()['id']\n",
    "\n",
    "    headers = {\n",
    "        'Authorization' : f'Bearer {jwt}',\n",
    "        'Content-Type' : 'application/json',\n",
    "        'Prefer': 'resolution=merge-duplicates'\n",
    "    }\n",
    "\n",
    "    resp = requests.post(\n",
    "        base_url + 'event_subscription',\n",
    "        headers=headers,\n",
    "        json = {\n",
    "            \"event_type_id\" : event_type_id,\n",
    "            \"event_filters\" : [\n",
    "                {\n",
    "                    \"event_key\" : \"document_pk\",\n",
    "                    \"event_filter\" : \"/uksi/2002/618\"\n",
    "                }\n",
    "            ],\n",
    "            \"deliver_async\" : True\n",
    "        },\n",
    "        params = {\n",
    "            \"on_conflict\" : \"event_type_id,event_filters,user_id\"\n",
    "        }\n",
    "    )\n",
    "\n",
    "    resp.raise_for_status()\n",
    "\n",
    "    headers = {\n",
    "        'Authorization' : f'Bearer {jwt}',\n",
    "        'Content-Type' : 'application/json',\n",
    "        'Accept' : 'application/vnd.pgrst.object+json'\n",
    "    }\n",
    "\n",
    "    resp = requests.get(\n",
    "        base_url + 'event_type',\n",
    "        headers=headers,\n",
    "        params={\n",
    "            \"event_name\" : \"eq.stale_document_relationship\"\n",
    "        }\n",
    "    )\n",
    "\n",
    "    headers = {\n",
    "        'Authorization' : f'Bearer {jwt}',\n",
    "        'Content-Type' : 'application/json',\n",
    "        'Prefer': 'resolution=merge-duplicates'\n",
    "    }\n",
    "\n",
    "    event_type_id = resp.json()['id']\n",
    "\n",
    "    resp = requests.post(\n",
    "        base_url + 'event_subscription',\n",
    "        headers=headers,\n",
    "        json = {\n",
    "            \"event_type_id\" : event_type_id,\n",
    "            \"event_filters\" : [\n",
    "                {\n",
    "                    \"event_key\" : \"changed_document_pk\",\n",
    "                    \"event_filter\" : \"/uksi/2002/618\"\n",
    "                }\n",
    "            ],\n",
    "            \"deliver_async\" : True\n",
    "        },\n",
    "        params = {\n",
    "            \"on_conflict\" : \"event_type_id,event_filters,user_id\"\n",
    "        }\n",
    "    )\n",
    "\n",
    "    resp.raise_for_status()\n",
    "\n",
    "def check_event_subscriptions():\n",
    "    jwt = login()\n",
    "    headers = {\n",
    "        'Authorization' : f'Bearer {jwt}',\n",
    "        'Content-Type' : 'application/json'\n",
    "    }\n",
    "\n",
    "    resp = requests.get(\n",
    "        base_url + 'event_subscription_stream',\n",
    "        headers=headers\n",
    "    )\n",
    "\n",
    "    resp.raise_for_status()\n",
    "\n",
    "    print(resp.json())\n",
    "\n",
    "def do_graph_search(jwt,all_rels=False,id=0):\n",
    "    headers={\n",
    "        \"Content-Type\" : \"application/json\",\n",
    "        # \"Accept\": \"application/vnd.pgrst.object+json\",\n",
    "        \"Authorization\": f\"Bearer {jwt}\"\n",
    "\n",
    "    }\n",
    "\n",
    "    json_data = {\n",
    "        \"filters\" : [{\n",
    "            \"operator\" : \"and\",\n",
    "            \"filter_elements\" : [{\n",
    "                \"document_metadata_category\": \"title\",\n",
    "                \"websearch_tsquery\" : \"medical\"\n",
    "            }]\n",
    "        }],\n",
    "        \"relationship_names\" : ([] if all_rels else ['guidance_references_legislation']),\n",
    "        \"metadata_categories\" : ['title']\n",
    "    }\n",
    "    resp = requests.post(\n",
    "        'http://127.0.0.1:3001/rpc/graph_search',\n",
    "        json=json_data,\n",
    "        headers=headers\n",
    "    )\n",
    "    resp.raise_for_status()\n",
    "    dump = json.dumps({\n",
    "        \"body\":json_data,\n",
    "        \"headers\":headers,\n",
    "        \"response\":resp.json()\n",
    "    })\n",
    "\n",
    "    with open(f'graph_query_{id}.json',\"w\") as f:\n",
    "        f.write(dump)\n",
    "\n",
    "    data = {}\n",
    "\n",
    "    nodes = [n for n in resp.json()['nodes']]\n",
    "    edges = []\n",
    "\n",
    "\n",
    "    for e in resp.json()['edges']:\n",
    "        if e['data']['relationship_confirmation']['confirmation_status'] == 'reconfirmed':\n",
    "            e['data']['tooltip'] = f\"\"\"\n",
    "                Previously stale relationship reconfirmed by user {e['data']['relationship_confirmation']['user_id']} \n",
    "                {arrow.get(e['data']['relationship_confirmation']['confirmed_on']).humanize()}\n",
    "            \"\"\"\n",
    "        elif e['data']['stale'] == 'True':\n",
    "            e['data']['tooltip'] = f\"Stale relationship\"\n",
    "        \n",
    "        if e['data']['property_key'] == 'same_named_entity':\n",
    "            e['data']['tooltip'] = f\"{e['data']['properties'][e['data']['property_key']]}\"\n",
    "        \n",
    "        edges.append(e)\n",
    "        \n",
    "\n",
    "    data['nodes'] = nodes\n",
    "    data['edges'] = edges\n",
    "\n",
    "    return data\n",
    "\n",
    "def get_db_conn():\n",
    "    import psycopg2\n",
    "    db_conn = psycopg2.connect(dbname=\"orp_alpha\", user=\"postgres\", password=\"admin\", port=5435, host=\"127.0.0.1\")\n",
    "    return db_conn\n",
    "\n",
    "def do_document_update():\n",
    "    db_conn = get_db_conn()\n",
    "    with db_conn:\n",
    "        with db_conn.cursor() as curs:\n",
    "            curs.execute(\"\"\"\n",
    "                select count(*) from public_api.document where pk = '/uksi/2002/618'\n",
    "            \"\"\")\n",
    "\n",
    "            res = curs.fetchone()\n",
    "\n",
    "            if res[0] == 2:\n",
    "                print(\"skipping test as event already created\")\n",
    "                do_logs_check = False\n",
    "            else:\n",
    "                curs.execute(\"\"\"select load_single_document(\n",
    "                    (select id from public_api.document_type where name = 'legislation.gov.uk'),\n",
    "                    '/demo_data/revisions/618_v2.xml'\n",
    "                );\n",
    "\n",
    "                select update_document_metadata(id) from public_api.document_metadata_definition;\n",
    "\n",
    "                select update_document_graph_relationship_definition((select id from public_api.document_graph_relationship_definition where name = 'guidance_references_legislation'));\n",
    "                \"\"\")\n",
    "    db_conn.close()\n",
    "    \n",
    "\n",
    "def setup_cygraph():\n",
    "    import ipycytoscape as cy\n",
    "    cyGraph = cy.CytoscapeWidget()\n",
    "\n",
    "    cyGraph.set_style([\n",
    "        {\n",
    "            \"selector\" : 'node',\n",
    "            \"style\" : {\n",
    "                'label': 'data(title)',\n",
    "                'font-size': '8px',\n",
    "                \"height\":40,\n",
    "                \"width\":40\n",
    "            }\n",
    "        },\n",
    "        {\n",
    "            \"selector\" : 'node[document_type_name=\\\"legislation.gov.uk\\\"]',\n",
    "            \"style\" : {\n",
    "                \"background-color\":\"#30c9bc\"\n",
    "            }\n",
    "        },\n",
    "        {\n",
    "            \"selector\" : 'node[document_type_name=\\\"orpml\\\"]',\n",
    "            \"style\" : {\n",
    "                \"background-color\":\"#11479e\"\n",
    "            }\n",
    "        },\n",
    "        {\n",
    "            \"selector\" : 'edge',\n",
    "            \"style\" : {\n",
    "                'font-size': '8px'\n",
    "            }\n",
    "        },\n",
    "        {\n",
    "            \"selector\" : 'edge[stale=\\\"False\\\"]',\n",
    "            \"style\" : {\n",
    "                \"opacity\": \"1\"\n",
    "            }\n",
    "        },\n",
    "        {\n",
    "            \"selector\" : 'edge[stale=\\\"True\\\"]',\n",
    "            \"style\" : {\n",
    "                \"opacity\": \"0.5\"\n",
    "            }\n",
    "        },\n",
    "        {\n",
    "            \"selector\" : 'edge[property_key=\\\"guidance_references_legislation\\\"]',\n",
    "            \"style\" : {\n",
    "                \"label\": \"References Legislation\",\n",
    "                \"line-color\": \"#d0b7d5\"\n",
    "            }\n",
    "        },\n",
    "        {\n",
    "            \"selector\" : 'edge[property_key=\\\"same_named_entity\\\"]',\n",
    "            \"style\" : {\n",
    "                \"label\": \"Same Named Entity\",\n",
    "                \"line-color\": \"blue\"\n",
    "            }\n",
    "        }\n",
    "    ])\n",
    "\n",
    "    cyGraph.set_layout(name = 'cola',\n",
    "        nodeSpacing = 150,\n",
    "        edgeLengthVal = 45,\n",
    "        animate = True,\n",
    "        randomize = False,\n",
    "        maxSimulationTime = 1500\n",
    "    )\n",
    "\n",
    "    cyGraph.layout.height = '700px'\n",
    "    cyGraph.set_tooltip_source('tooltip')\n",
    "    return cyGraph\n",
    "\n",
    "def do_document_cleanup():\n",
    "    db_conn = get_db_conn()\n",
    "    with db_conn:\n",
    "        with db_conn.cursor() as curs:\n",
    "            curs.execute(\"\"\"\n",
    "                delete from public_api.document where pk = '/uksi/2002/618' and latest is true and revision_number = 1;\n",
    "                delete from public_api.event;\n",
    "                delete from public_api.event_stream;\n",
    "            \"\"\")\n",
    "    db_conn.close()\n",
    "\n",
    "do_document_cleanup()\n",
    "\n",
    "def reconfirm_edge(document_graph_id):\n",
    "    # mark the edge as reconfirmed\n",
    "    headers = {\n",
    "        'Authorization' : f'Bearer {jwt}',\n",
    "        'Content-Type' : 'application/json'\n",
    "    }\n",
    "\n",
    "    resp = requests.post(\n",
    "        base_url + 'document_graph_relationship_confirmation',\n",
    "        headers=headers,\n",
    "        json = {\n",
    "            \"document_graph_id\" : document_graph_id,\n",
    "            \"confirmation_status\" : \"reconfirmed\"\n",
    "        }\n",
    "    )\n",
    "\n",
    "    resp.raise_for_status()"
   ]
  },
  {
   "cell_type": "markdown",
   "metadata": {
    "tags": []
   },
   "source": [
    "# Perform a graph search for Medical in the title with relationships of all types"
   ]
  },
  {
   "cell_type": "code",
   "execution_count": null,
   "metadata": {
    "tags": []
   },
   "outputs": [],
   "source": [
    "cyGraph = setup_cygraph()\n",
    "\n",
    "jwt = login()\n",
    "\n",
    "resp = do_graph_search(jwt,all_rels=True,id=1)\n",
    "\n",
    "# print(resp)\n",
    "\n",
    "cyGraph.graph.add_graph_from_json(resp)\n",
    "\n",
    "cyGraph\n"
   ]
  },
  {
   "cell_type": "markdown",
   "metadata": {
    "tags": []
   },
   "source": [
    "# Perform A Graph Search For Documents with \"Medical\" in the Title and related guidance\n",
    "This will return documents and related guidance documents"
   ]
  },
  {
   "cell_type": "code",
   "execution_count": null,
   "metadata": {
    "tags": []
   },
   "outputs": [],
   "source": [
    "\n",
    "cyGraph = setup_cygraph()\n",
    "\n",
    "jwt = login()\n",
    "\n",
    "resp = do_graph_search(jwt,id=2)\n",
    "\n",
    "# print(resp.json())\n",
    "\n",
    "cyGraph.graph.add_graph_from_json(resp)\n",
    "\n",
    "cyGraph\n"
   ]
  },
  {
   "cell_type": "markdown",
   "metadata": {
    "tags": []
   },
   "source": [
    "# A user will subscribe to changes to this legislation and it's related documents"
   ]
  },
  {
   "cell_type": "code",
   "execution_count": null,
   "metadata": {
    "tags": []
   },
   "outputs": [],
   "source": [
    "\n",
    "subscribe_to_events()\n",
    "\n"
   ]
  },
  {
   "cell_type": "markdown",
   "metadata": {
    "tags": []
   },
   "source": [
    "# Simulate the creation of a new revision of the legislation (this will indicate that the link to guidance may be \"Stale\")"
   ]
  },
  {
   "cell_type": "code",
   "execution_count": null,
   "metadata": {
    "tags": []
   },
   "outputs": [],
   "source": [
    "do_document_update()"
   ]
  },
  {
   "cell_type": "markdown",
   "metadata": {
    "tags": []
   },
   "source": [
    "# Perform the same search after the legislation update"
   ]
  },
  {
   "cell_type": "code",
   "execution_count": null,
   "metadata": {
    "tags": []
   },
   "outputs": [],
   "source": [
    "import requests\n",
    "from rich import print\n",
    "import ipycytoscape as cy\n",
    "\n",
    "cyGraph = setup_cygraph()\n",
    "\n",
    "resp = do_graph_search(jwt,id=3)\n",
    "\n",
    "# print(resp)\n",
    "\n",
    "cyGraph.graph.add_graph_from_json(resp)\n",
    "\n",
    "cyGraph"
   ]
  },
  {
   "cell_type": "markdown",
   "metadata": {
    "tags": []
   },
   "source": [
    "# Simulate a user checking their subscriptions (two notifications related to the subscribed legislation are present)"
   ]
  },
  {
   "cell_type": "code",
   "execution_count": null,
   "metadata": {
    "tags": []
   },
   "outputs": [],
   "source": [
    "check_event_subscriptions()"
   ]
  },
  {
   "cell_type": "markdown",
   "metadata": {
    "tags": []
   },
   "source": [
    "# Simulate a document owner indicating that the link from guidance to the primary legislation is still valid and does not need a new revision of the guidance"
   ]
  },
  {
   "cell_type": "code",
   "execution_count": null,
   "metadata": {
    "tags": []
   },
   "outputs": [],
   "source": [
    "import ipycytoscape as cy\n",
    "jwt = login()\n",
    "resp = do_graph_search(jwt,id=4)\n",
    "\n",
    "cyGraph = setup_cygraph()\n",
    "\n",
    "\n",
    "document_graph_id = resp['edges'][0]['data']['id']\n",
    "\n",
    "reconfirm_edge(document_graph_id)\n",
    "\n",
    "resp = do_graph_search(jwt,id=5)\n",
    "\n",
    "# print(resp)\n",
    "\n",
    "cyGraph.graph.add_graph_from_json(resp)\n",
    "\n",
    "cyGraph\n"
   ]
  }
 ],
 "metadata": {
  "interpreter": {
   "hash": "8e86333daca32660ad8d16ac2ce624e3ebb0e7f4173a5a329ee6175682b72c80"
  },
  "kernelspec": {
   "display_name": "Python 3 (ipykernel)",
   "language": "python",
   "name": "python3"
  },
  "language_info": {
   "codemirror_mode": {
    "name": "ipython",
    "version": 3
   },
   "file_extension": ".py",
   "mimetype": "text/x-python",
   "name": "python",
   "nbconvert_exporter": "python",
   "pygments_lexer": "ipython3",
   "version": "3.9.7"
  }
 },
 "nbformat": 4,
 "nbformat_minor": 4
}
