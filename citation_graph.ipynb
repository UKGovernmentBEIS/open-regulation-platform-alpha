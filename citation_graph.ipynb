{
 "cells": [
  {
   "cell_type": "code",
   "execution_count": null,
   "metadata": {},
   "outputs": [],
   "source": [
    "#\n",
    "# Copyright (C) Analytics Engines 2021\n",
    "# Alastair McKinley (a.mckinley@analyticsengines.com)\n",
    "#\n",
    "\n",
    "import requests\n",
    "import networkx as nx\n",
    "from algorithmx import jupyter_canvas\n",
    "from rich import print\n",
    "\n",
    "\n",
    "r = requests.post(\"http://127.0.0.1:3001/rpc/login\",json={\"email\" : \"admin@beis.gov.uk\", \"password\" : \"Password1!\"})\n",
    "jwt = r.json()[\"signed_jwt\"]\n",
    "\n",
    "headers={\n",
    "    \"Content-Type\" : \"application/json\",\n",
    "    # \"Accept\": \"application/vnd.pgrst.object+json\",\n",
    "    \"Authorization\": f\"Bearer {jwt}\"\n",
    "\n",
    "}\n",
    "\n",
    "params = {\n",
    "    \"select\": \"document_id:id,document_metadata_search:document_metadata_view(data,name,id),document_metadata:document_metadata_view(data,name),related_documents:document_graph!document_id_a(document_id_b,relationship_properties)\",\n",
    "    \"document_metadata_search.id\" : \"eq.7\",\n",
    "    \"document_metadata_search.data\" : \"wfts.Mersey Tunnels Act 2004\",\n",
    "    \"document_metadata.name\" : \"in.(title,classification)\"\n",
    "}\n",
    "\n",
    "r = requests.get(\"http://127.0.0.1:3001/document\",headers=headers,params=params)\n",
    "\n",
    "data = r.json()[0]\n",
    "print(data)\n",
    "\n",
    "G = nx.Graph()\n",
    "\n",
    "canvas = jupyter_canvas().size((1200,1000))\n",
    "\n",
    "name = [dm['data'] for dm in data[\"document_metadata\"] if dm['name'] == 'title'][0]\n",
    "\n",
    "\n",
    "for rd in data['related_documents']:\n",
    "    nx.add_path(G,[name,rd['relationship_properties']['cited_in']])\n",
    "\n",
    "\n",
    "canvas.nodes(G.nodes).add(\n",
    "    shape='ellipse',\n",
    "    size=(140,140)\n",
    ")\n",
    "canvas.edges(G.edges).add(\n",
    "    size=100\n",
    ")\n",
    "\n",
    "canvas\n",
    "\n"
   ]
  }
 ],
 "metadata": {
  "interpreter": {
   "hash": "8e86333daca32660ad8d16ac2ce624e3ebb0e7f4173a5a329ee6175682b72c80"
  },
  "kernelspec": {
   "display_name": "Python 3.9.7 64-bit ('env': venv)",
   "name": "python3"
  },
  "language_info": {
   "codemirror_mode": {
    "name": "ipython",
    "version": 3
   },
   "file_extension": ".py",
   "mimetype": "text/x-python",
   "name": "python",
   "nbconvert_exporter": "python",
   "pygments_lexer": "ipython3",
   "version": "3.9.7"
  },
  "orig_nbformat": 4
 },
 "nbformat": 4,
 "nbformat_minor": 2
}
